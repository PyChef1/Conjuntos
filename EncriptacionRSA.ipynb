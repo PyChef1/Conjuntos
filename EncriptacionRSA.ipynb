{
 "cells": [
  {
   "cell_type": "markdown",
   "metadata": {
    "id": "QS1bHOWjOWfz"
   },
   "source": [
    "# El metodo de encriptacion RSA\n",
    "Tenemos el siguiente escenario: Roberto quiere mandar un mensaje a Alicia de tal forma que culquier persona distinta a Roberto que se encuentre en la transmision no pueda entender el mensaje. Esto se logra encriptando el mensaje para que solo Alicia, con la clave correcta, pueda descifrarlo."
   ]
  },
  {
   "cell_type": "markdown",
   "metadata": {
    "id": "yIGor0nESz3Z"
   },
   "source": [
    "La idea es que Alicia escoja dos primos distintos de longitud grande $p,q$, y fija $n=pq$. Cualquier persona que pueda factorizar $n$ podra acceder al mensaje.\n",
    "\n",
    "Si Alicia quiere recibir mensajes de Roberto, ella escoje $e\\in\\{2,\\dots,\\varphi(n)-2\\}$ con $\\text{mcd}(e,\\varphi(n))=1$ aleatoriamente, donde $\\varphi$ es la funcion $\\varphi$ de Euler, ademas al ser $p,q$ primos $\\varphi(n)=(p-1)(q-1)$. (Tambien puede fijar $e=3$). Despues calcula $d\\in\\{2,\\dots,\\varphi(n)-2\\}$ con $de\\equiv1(\\bmod{\\varphi(n)})$, usando el algoritmo de Euclides y expandiendolo como combinacion lineal, publica la pareja $K=(n, e)$ esta sera su clave publica y mantiene tanto su clave privada $S=(n, d)$ como $p,q$ ocultas.\n",
    "\n",
    "Para mandar un mensaje numerico $m$ a Alicia, Roberto utiliza la clave publica de Alicia y lo encripta mediante $\\hat{m}=m^e$, y lo envia a Alicia, que calcula $m^d$, usando su clave privada. Entonces, usando un $u\\in\\mathbb{Z}$ tal que $de-1=u\\cdot\\varphi(n)$ (Inverso), obtenemos $$m^{de}=m^{1+u\\cdot\\varphi(n)}=m(m^{\\varphi(n)})^{u}≡m(\\bmod{n}),$$ Puesto que $m^{\\varphi(n)}=1$ por el Teorema de Euler ."
   ]
  },
  {
   "cell_type": "markdown",
   "metadata": {
    "id": "gB4v4rPueOMg"
   },
   "source": [
    "## Implementacion en Python 1 (Sin librerias y entrada numerica)\n"
   ]
  },
  {
   "cell_type": "markdown",
   "metadata": {
    "id": "dY--MTpWeaqY"
   },
   "source": [
    "Primero creamos una funcion que nos ayude a calcular el MCD de dos numeros usando el algoritmo de Euclides"
   ]
  },
  {
   "cell_type": "code",
   "execution_count": 1,
   "metadata": {
    "colab": {
     "base_uri": "https://localhost:8080/"
    },
    "id": "3Pl767dJAAWk",
    "outputId": "b6708b7a-4dd2-43aa-f757-64016b76325b"
   },
   "outputs": [
    {
     "name": "stdout",
     "output_type": "stream",
     "text": [
      "4\n"
     ]
    }
   ],
   "source": [
    "from random import randint\n",
    "def MCD_Euclides(a,b):\n",
    "  while a != b:\n",
    "    if a > b:\n",
    "      a = a - b\n",
    "    else:\n",
    "      b = b - a\n",
    "  return a\n",
    "\n",
    "print(MCD_Euclides(12,8))"
   ]
  },
  {
   "cell_type": "markdown",
   "metadata": {
    "id": "4uJgwD7Ge_wD"
   },
   "source": [
    "Ahora una funcion que nos ayude a calcular el inverso modulo $n$"
   ]
  },
  {
   "cell_type": "code",
   "execution_count": 2,
   "metadata": {
    "colab": {
     "base_uri": "https://localhost:8080/"
    },
    "id": "PRiIwpn4A7Fy",
    "outputId": "ad56232c-bfe4-4b31-856b-3b4444c55393"
   },
   "outputs": [
    {
     "name": "stdout",
     "output_type": "stream",
     "text": [
      "4\n"
     ]
    }
   ],
   "source": [
    "def inverso(e,n):\n",
    "  # El inverso es un entero tal que e * nbr mod n es 1\n",
    "  for i in range(n):\n",
    "    if ((i+1) * e) % n == 1:\n",
    "      return i+1\n",
    "  return -1 #No hay inverso\n",
    "\n",
    "print(inverso(3,11))"
   ]
  },
  {
   "cell_type": "markdown",
   "metadata": {
    "id": "Y8Y-HYMIfKiR"
   },
   "source": [
    "Con estas funciones previas podemos definir otras que nos sirvan para encriptar y desencriptar nuestro mensaje; y la funcion."
   ]
  },
  {
   "cell_type": "code",
   "execution_count": 3,
   "metadata": {
    "colab": {
     "base_uri": "https://localhost:8080/"
    },
    "id": "Km8dQuMlCuOH",
    "outputId": "e66d1684-dad5-43d9-e6dd-4901f0ed2bbc"
   },
   "outputs": [
    {
     "name": "stdout",
     "output_type": "stream",
     "text": [
      "Ingrese el mensaje numerico a encriptar: 245\n",
      "p:\t89\n",
      "q:\t13\n",
      "p*q:\t1157\n",
      "phi:\t1056\n",
      "Mensaje a Encriptar:\t245\n",
      "Se encontro e = 955\n",
      "Se encontro d = 115\n",
      "e: 955 tiene el inverso d: 115 ... (955 * 115) % 1,056 = 1\n",
      "Entonces la clave publica es: \t{'e': 955, 'pq': 1157}\n",
      "La clave privada es: \t\t{'d': 115, 'pq': 1157}\n",
      "Encriptando: 245\n",
      "Encriptado: 639\n",
      "Decodificado: 245\n"
     ]
    }
   ],
   "source": [
    "def generar_claves(p, q):\n",
    "    pq = p * q\n",
    "    phi = (p - 1) * (q - 1)\n",
    "    e = 0\n",
    "    while True:\n",
    "        e = randint(3, phi)\n",
    "        if MCD_Euclides(e, phi) == 1:\n",
    "            break\n",
    "    d = inverso(e, phi)\n",
    "    return {'e': e, 'pq': pq}, {'d': d, 'pq': pq}\n",
    "\n",
    "def encriptar(mensaje, clave_publica):\n",
    "    e = clave_publica['e']\n",
    "    pq = clave_publica['pq']\n",
    "    encriptado = (mensaje ** e) % pq\n",
    "    return encriptado\n",
    "\n",
    "def desencriptar(encriptado, clave_privada):\n",
    "    d = clave_privada['d']\n",
    "    pq = clave_privada['pq']\n",
    "    decodificado = (encriptado ** d) % pq\n",
    "    return decodificado\n",
    "\n",
    "def main():\n",
    "    p = 89 #Puede elegir el primo\n",
    "    q = 13 #Puede elegir el primo\n",
    "    mensaje = int(input('Ingrese el mensaje numerico a encriptar: '))\n",
    "\n",
    "    clave_publica, clave_privada = generar_claves(p, q)\n",
    "\n",
    "    print(f\"p:\\t{p}\\nq:\\t{q}\\np*q:\\t{clave_publica['pq']}\\nphi:\\t{(p - 1) * (q - 1)}\\nMensaje a Encriptar:\\t{mensaje}\")\n",
    "    print(f\"Se encontro e = {clave_publica['e']}\")\n",
    "    print(f\"Se encontro d = {clave_privada['d']}\")\n",
    "    print(f\"e: {clave_publica['e']:,} tiene el inverso d: {clave_privada['d']:,} ... ({clave_publica['e']:,} * {clave_privada['d']:,}) % {(p - 1) * (q - 1):,} = {(clave_publica['e'] * clave_privada['d']) % ((p - 1) * (q - 1))}\")\n",
    "    print(f\"Entonces la clave publica es: \\t{clave_publica}\")\n",
    "    print(f\"La clave privada es: \\t\\t{clave_privada}\")\n",
    "\n",
    "    encriptado = encriptar(mensaje, clave_publica)\n",
    "    decodificado = desencriptar(encriptado, clave_privada)\n",
    "\n",
    "    print(f'Encriptando: {mensaje:,}\\nEncriptado: {encriptado:,}\\nDecodificado: {decodificado:,}')\n",
    "\n",
    "if __name__ == \"__main__\":\n",
    "    main()"
   ]
  },
  {
   "cell_type": "markdown",
   "metadata": {
    "id": "XBchgklvyJkP"
   },
   "source": [
    "**NOTA:** A pesar de que esta implementacion sea facilmente legible, puede llegar a fallar por errores de sobreflujo, es decir si el mensaje a encriptar es un entero muy grande decodifica otro numero"
   ]
  },
  {
   "cell_type": "markdown",
   "metadata": {
    "id": "H7Zvldng0Foy"
   },
   "source": [
    "# Implementacion 2 en Python (Librerias y entrada en cadena)\n",
    "Comenzaremos con dos funciones, la primera checara si algun numero es primo y la otra generara primos"
   ]
  },
  {
   "cell_type": "code",
   "execution_count": 4,
   "metadata": {
    "id": "QFca2L410E19"
   },
   "outputs": [],
   "source": [
    "import random\n",
    "\n",
    "def esPrimo(numero):\n",
    "  if numero <2: #Verifica si el nuemero es menor que 2 para descartarlo\n",
    "    return False\n",
    "  for i in range(2, numero // 2 + 1): #Itera a traves de todos los nuemeros impares y verifica si son divisibles entre i para descartarlos\n",
    "    if numero % i == 0:\n",
    "      return False\n",
    "  return True\n",
    "\n",
    "def generarPrimo(minimo, maximo):\n",
    "  primo = random.randint(minimo, maximo) #Usando randint genera un numero aleatorio para posteriormente checar si es primo con la funcion previa\n",
    "  while not esPrimo(primo):\n",
    "    primo = random.randint(minimo, maximo)\n",
    "  return primo"
   ]
  },
  {
   "cell_type": "markdown",
   "metadata": {
    "id": "d9jyzGF42nEq"
   },
   "source": [
    "Lo siguiente sera realizar una funcion que calcula el inverso modular, y escribir el texto a cifrar."
   ]
  },
  {
   "cell_type": "code",
   "execution_count": 5,
   "metadata": {
    "colab": {
     "base_uri": "https://localhost:8080/"
    },
    "id": "U7xJTWth2C79",
    "outputId": "c3034a56-9a48-4bd6-f0f5-0ade1c157060"
   },
   "outputs": [
    {
     "name": "stdout",
     "output_type": "stream",
     "text": [
      "Clave publica:  (368351, 257075)\n",
      "Clave privada:  (368351, 135419)\n",
      "Phi(n):   367104\n",
      "p:  479\n",
      "q:  769\n",
      "Ingrese el mensaje a encriptar: Teoria de Conjuntos\n",
      "Mensaje encriptado:  [305187, 196543, 329791, 173589, 191644, 32291, 202427, 74464, 196543, 202427, 19186, 329791, 28361, 272067, 260398, 28361, 20679, 329791, 134506]\n",
      "Mensaje desencriptado:  Teoria de Conjuntos\n"
     ]
    }
   ],
   "source": [
    "import math\n",
    "\n",
    "def inverso_mod(e, phi):\n",
    "  for d in range(3,phi): # Itera los numeros d tales que 3<d<=phi\n",
    "    if (d*e) % phi == 1: #Checa la condicion d*e≡1(mod{phi})\n",
    "      return d\n",
    "  raise ValueError(\"El inverso modular no existe\")\n",
    "\n",
    "p, q = generarPrimo(100, 1000), generarPrimo(100, 1000)\n",
    "\n",
    "while p == q:\n",
    "  q = generarPrimo(100, 1000)\n",
    "\n",
    "n = p * q\n",
    "phi_n = (p-1)*(q-1)\n",
    "\n",
    "e = random.randint(3, phi_n-1)\n",
    "while math.gcd(e, phi_n) != 1:\n",
    "  e = random.randint(3, phi_n-1)\n",
    "\n",
    "d = inverso_mod(e, phi_n)\n",
    "\n",
    "print(\"Clave publica: \", (n, e))\n",
    "print(\"Clave privada: \", (n, d))\n",
    "print(\"Phi(n):  \", phi_n)\n",
    "print(\"p: \", p)\n",
    "print(\"q: \", q)\n",
    "\n",
    "mensaje = input(\"Ingrese el mensaje a encriptar: \")\n",
    "mensaje_codificado = [ord(char) for char in mensaje] #Ingresa a una lista el caracter en formato ASCII de la cadena solicitada al usuario\n",
    "\n",
    "encriptado = [pow(char, e, n) for char in mensaje_codificado] #(m^e) mod n = c\n",
    "print(\"Mensaje encriptado: \", encriptado)\n",
    "\n",
    "desencriptado = [chr(pow(char, d, n)) for char in encriptado] # (c^d) mod n = m\n",
    "print(\"Mensaje desencriptado: \", ''.join(desencriptado))\n"
   ]
  },
  {
   "cell_type": "markdown",
   "metadata": {
    "id": "HflQe6-n8W64"
   },
   "source": [
    "Elaboro:\n",
    "\n",
    "*   Ruiz Barrera Isaac\n",
    "*   Cordova Castro Alberto\n",
    "*   Lopez Brenis Gibran\n",
    "*   Martinez Castañeda Abner\n",
    "\n"
   ]
  }
 ],
 "metadata": {
  "colab": {
   "provenance": []
  },
  "kernelspec": {
   "display_name": "Python 3",
   "language": "python",
   "name": "python3"
  },
  "language_info": {
   "codemirror_mode": {
    "name": "ipython",
    "version": 3
   },
   "file_extension": ".py",
   "mimetype": "text/x-python",
   "name": "python",
   "nbconvert_exporter": "python",
   "pygments_lexer": "ipython3",
   "version": "3.8.8"
  }
 },
 "nbformat": 4,
 "nbformat_minor": 1
}
