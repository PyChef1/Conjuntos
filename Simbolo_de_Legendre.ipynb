{
  "nbformat": 4,
  "nbformat_minor": 0,
  "metadata": {
    "colab": {
      "provenance": [],
      "authorship_tag": "ABX9TyM8HfD12QC7xs4hKRx6OO6E",
      "include_colab_link": true
    },
    "kernelspec": {
      "name": "python3",
      "display_name": "Python 3"
    },
    "language_info": {
      "name": "python"
    }
  },
  "cells": [
    {
      "cell_type": "markdown",
      "metadata": {
        "id": "view-in-github",
        "colab_type": "text"
      },
      "source": [
        "<a href=\"https://colab.research.google.com/github/PyChef1/Conjuntos/blob/main/Simbolo_de_Legendre.ipynb\" target=\"_parent\"><img src=\"https://colab.research.google.com/assets/colab-badge.svg\" alt=\"Open In Colab\"/></a>"
      ]
    },
    {
      "cell_type": "markdown",
      "source": [
        "# Simbolo de Legendre\n",
        "La motivacion de definir el simbolo de Legendre es para saber si la congruencia $$ x^2≡a(\\bmod{p})$$ donde $p$ es un numero primo tiene solucion.\n",
        "\n",
        "Para ello se define lo siguiente\n",
        "## Residuo Cuadratico\n",
        "Sea $p$ un numero primo y $a∈\\mathbb{Z}$. Decimos que $a$ es un residuo cuadratico modulo $p$ si existe $x\\in\\mathbb{Z}$ tal que: $$x^2≡ a(\\bmod{p})$$\n",
        "**Ejemplo:** Los enteros que residuos cuadraticos modulo 7 son 0, 1, 2, 4 pues son los que aparecen en ambas columnas de la siguiente tabla $$\\begin{array}{c|c}\n",
        "x & x^2≡(\\bmod{7}) \\\\ \\hline 0 & 0 \\\\1 & 1 \\\\2 & 4 \\\\ 3 & 2 \\\\ 4 & 2 \\\\5 & 4 \\\\ 6 & 1\n",
        "\\end{array}$$\n",
        "## Teorema\n",
        "Sea $p$ primo impar y $a∈\\mathbb{Z}$. Entonces:\n",
        "\n",
        "1.   Si $p|a$ la ecuacion $x^2≡a(\\bmod{p})$ tiene una unica solucion i.e. $0$ es residuo cuadratico.\n",
        "2.   Si $p\\nmid{a}$ entonces la ecuacion $x^2≡a(\\bmod{p})$ tiene o bien $0$, o bien $2$ soluciones\n",
        "3.  Entre los numeros $1,…, p-1$ hay $\\dfrac{p-1}{2}$ que son residuos cuadraticos y $\\dfrac{p-1}{2}$ que no lo son.\n",
        "\n",
        "## Simbolo de Legendre\n",
        "Dado un numero $p$ y $a\\in\\mathbb{Z}$, definimos el simbolo de Legendre como $$\\left(\\frac{a}{p}\\right) = \\begin{cases}\n",
        "0 &\\text{Si }p|a \\\\ 1&\\text{Si }p\\nmid a\\text{ y $a$ es residuo cuadratico modulo }p \\\\ -1&\\text{En caso contrario}\n",
        "\\end{cases}$$  En otras palabras $$\\left(\\frac{a}{p} \\right) = \\begin{cases}\n",
        "0 &\\text{Si }x^2≡a(\\bmod{p})\\text{ tiene una solucion} \\\\ 1&\\text{Si }x^2≡a(\\bmod{p})\\text{tiene dos soluciones}\\\\ -1&\\text{Si }x^2≡a(\\bmod{p})\\text{ no tiene soluciones}\\end{cases}$$\n",
        "\n",
        "### Propiedades del Simbolo de Legendre\n",
        "\n",
        "1.  Si $a≡b(\\bmod{p})$, entonces $$\\left(\\frac{a}{p}\\right)=\\left(\\frac{b}{p}\\right)$$\n",
        "2.  $$\\left(\\frac{ab}{p}\\right)=\\left(\\frac{a}{p}\\right)\\left(\\frac{b}{p}\\right)$$\n",
        "3.  $$\\left(\\frac{a^2}{p}\\right)=1$$\n",
        "4.  $$\\left(\\frac{1}{p}\\right)= 1$$\n",
        "5.  $$\\left(\\frac{-1}{p}\\right)=\\begin{cases}\n",
        "1 & \\text{si }p≡1(\\bmod{4}) \\\\ -1 & \\text{si }p≡3(\\bmod{4})\n",
        "\\end{cases}$$\n",
        "6. $$\\left(\\frac{2}{p}\\right)=\\begin{cases}\n",
        "1 & \\text{si }p≡1\\text{ o }7(\\bmod{8}) \\\\ -1 & \\text{si }p≡3\\text{ o }5(\\bmod{8})\n",
        "\\end{cases}$$\n",
        "\n",
        "En general, podemos calcular cualquier simbolo de legendre si descomponemos a $a$ como factores de primos y separamos cada simbolo usando la propiedad 2. y ver en que caso cae cada uno de ellos."
      ],
      "metadata": {
        "id": "tDaVm_ixuSFW"
      }
    },
    {
      "cell_type": "markdown",
      "source": [
        "## Implementacion en Python\n",
        "Antes de comenzar con el codigo de simbolo de Legendre, necesitamos dos funciones auxiliares, una para verificar si cierto numero es primo y otra que factorice un numero dado."
      ],
      "metadata": {
        "id": "2NpcPLUk7PZr"
      }
    },
    {
      "cell_type": "code",
      "source": [
        "import math\n",
        "\n",
        "def es_Primo(n):\n",
        "  if n <= 1: #Si el numero es menor o igual a 1 inmediatamente regresa falso\n",
        "    return False\n",
        "  for i in range(2, int(math.sqrt(n))+1): #Si el numero es mas grande que 1 iteramos desde 2 a raiz de n (si un numero n tiene un divisor mas grande que su raiz, tambien debe tener un divisor mas pequeño que su raiz)\n",
        "    if n % i == 0: # Si i divide a n y n es mayor que uno por lo tanto tiene otro divisor distinto de 1 por lo que no es primo\n",
        "      return False\n",
        "  return True\n",
        "\n",
        "def factorizar(n):\n",
        "  factores = []\n",
        "\n",
        "  p = 2 #Iniciamos como el primo mas pequeño\n",
        "  while True:\n",
        "    while n % p == 0 and n > 0: #Mientras n>0 y n sea divisible por p añadalo a factores\n",
        "      factores.append(p)\n",
        "      n = n / p # Actualizar el numero n a n/p\n",
        "    p += 1 # Aumenta p para encontrar otro posible factor\n",
        "    if p > n / p:\n",
        "      break\n",
        "  if n > 1:\n",
        "    factores.append(n)\n",
        "  return factores"
      ],
      "metadata": {
        "id": "mt--ei--AeKF"
      },
      "execution_count": null,
      "outputs": []
    },
    {
      "cell_type": "markdown",
      "source": [
        "Probemos las funciones"
      ],
      "metadata": {
        "id": "NfFbXD2u-BZ0"
      }
    },
    {
      "cell_type": "code",
      "source": [
        "print(es_Primo(256))\n",
        "factorizar(256)"
      ],
      "metadata": {
        "colab": {
          "base_uri": "https://localhost:8080/"
        },
        "id": "YxBYUTbeK-aO",
        "outputId": "e9955099-6f50-412c-dfcb-ca5bdcdd6ad0"
      },
      "execution_count": null,
      "outputs": [
        {
          "output_type": "stream",
          "name": "stdout",
          "text": [
            "False\n"
          ]
        },
        {
          "output_type": "execute_result",
          "data": {
            "text/plain": [
              "[2, 2, 2, 2, 2, 2, 2, 2]"
            ]
          },
          "metadata": {},
          "execution_count": 6
        }
      ]
    },
    {
      "cell_type": "code",
      "execution_count": null,
      "metadata": {
        "id": "a6iD6W9acSWE"
      },
      "outputs": [],
      "source": [
        "def simbolo_de_legendre(a, p):\n",
        "  if a >= p or a < 0: # Reduccion modulo p del elemento a\n",
        "    return simbolo_de_legendre(a % p, p)\n",
        "  elif a == 0 or a == 1: # Esta es la equivalente a propiedad numero 1.\n",
        "    return a\n",
        "  elif a == 2: #Caso 6.\n",
        "    if p % 8 == 1 or p % 8 == 7:\n",
        "      return 1\n",
        "    else:\n",
        "      return -1\n",
        "  elif a == p - 1: # Caso 5.\n",
        "    if p % 4 == 1:\n",
        "      return 1\n",
        "  elif not es_Primo(a): # Si a no es primo factoriza\n",
        "    factores = factorizar(a)\n",
        "    producto = 1\n",
        "    for p_i in factores: #Calcula el simbolo de Legendre para cada factor de a y hace su producto\n",
        "      producto *= simbolo_de_legendre(p_i, p)\n",
        "    return producto\n",
        "  else:\n",
        "    if ((p - 1) / 2) % 2 == 0 or ((a - 1) / 2) % 2 == 0: # Optimiza los calculos (Teorema punto 3)\n",
        "      return simbolo_de_legendre(p, a)\n",
        "    else:\n",
        "      return (-1) * simbolo_de_legendre(p, a)"
      ]
    },
    {
      "cell_type": "markdown",
      "source": [
        "Podemos poner a prueba el programa ☺"
      ],
      "metadata": {
        "id": "KOW7sdjL_vJ1"
      }
    },
    {
      "cell_type": "code",
      "source": [
        "while True:\n",
        "  try:\n",
        "    p = int(input(\"Ingrese un numero primo: \"))\n",
        "    if es_Primo(p):\n",
        "      break\n",
        "    else:\n",
        "      print(\"El numero ingresado no es primo. Intente de nuevo.\")\n",
        "  except ValueError:\n",
        "    print(\"Entrada invalida. Por favor ingrese un numero entero.\")\n",
        "\n",
        "a = int(input(\"Ingrese un numero: \"))\n",
        "print(f\"El simbolo de Legendre de {a} modulo {p} es {simbolo_de_legendre(a, p)}\")"
      ],
      "metadata": {
        "colab": {
          "base_uri": "https://localhost:8080/"
        },
        "id": "p8G8iW7zK9Ap",
        "outputId": "4cd922f5-c793-459e-b3e6-c443d40d1d0f"
      },
      "execution_count": null,
      "outputs": [
        {
          "output_type": "stream",
          "name": "stdout",
          "text": [
            "Ingrese un numero primo: 7\n",
            "Ingrese un numero: 14\n",
            "El simbolo de Legendre de 14 modulo 7 es 0\n"
          ]
        }
      ]
    },
    {
      "cell_type": "markdown",
      "source": [
        "Elaboro:\n",
        "\n",
        "*   Isaac Ruiz Barrera\n",
        "*   Cordova Castro Alberto\n",
        "*   Lopez Brenis Gibran\n",
        "*   Martinez Castañeda Abner\n",
        "\n"
      ],
      "metadata": {
        "id": "GumMICWnCXFl"
      }
    }
  ]
}